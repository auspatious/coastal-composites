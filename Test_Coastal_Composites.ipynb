{
 "cells": [
  {
   "cell_type": "code",
   "execution_count": null,
   "metadata": {},
   "outputs": [],
   "source": [
    "from datacube.utils.dask import start_local_dask\n",
    "from dep_tools.namers import LocalPath\n",
    "from dep_tools.writers import LocalDsCogWriter\n",
    "\n",
    "from src.run_task import CoastalCompositesProcessor, get_geometry\n",
    "\n",
    "from dep_tools.searchers import PystacSearcher\n",
    "from dep_tools.loaders import OdcLoader\n",
    "\n",
    "from coastlines.grids import VIETNAM_10"
   ]
  },
  {
   "cell_type": "code",
   "execution_count": null,
   "metadata": {},
   "outputs": [],
   "source": [
    "%load_ext autoreload\n",
    "%autoreload 2"
   ]
  },
  {
   "cell_type": "code",
   "execution_count": null,
   "metadata": {},
   "outputs": [],
   "source": [
    "# Optionally set up a local dask cluster\n",
    "client = start_local_dask()\n",
    "client.dashboard_link"
   ]
  },
  {
   "cell_type": "code",
   "execution_count": null,
   "metadata": {},
   "outputs": [],
   "source": [
    "import geopandas as gpd\n",
    "\n",
    "# Study site configuration\n",
    "tile_id = (9, 19)  # South west man face place\n",
    "year = 2022  # Each year builds a composite 3 years\n",
    "\n",
    "# Get the tile\n",
    "geom = get_geometry(tile_id)\n",
    "geom.explore()"
   ]
  },
  {
   "cell_type": "code",
   "execution_count": null,
   "metadata": {},
   "outputs": [],
   "source": [
    "# Find some items\n",
    "searcher = PystacSearcher(\n",
    "    catalog=\"https://earth-search.aws.element84.com/v1/\",\n",
    "    collections=[\"sentinel-2-l2a\"],\n",
    "    datetime=f\"{year-1}/{year+1}\"\n",
    ")\n",
    "\n",
    "items = searcher.search(geom)\n",
    "\n",
    "print(f\"Found {len(items)} items\")"
   ]
  },
  {
   "cell_type": "code",
   "execution_count": null,
   "metadata": {},
   "outputs": [],
   "source": [
    "# Set up a data loader\n",
    "loader = OdcLoader(\n",
    "    crs=VIETNAM_10.crs,\n",
    "    resolution=50,\n",
    "    bands=[\"red\", \"green\", \"blue\", \"scl\"],\n",
    "    groupby=\"solar_day\",\n",
    "    chunks=dict(time=1, x=4096, y=4096),\n",
    "    fail_on_error=False\n",
    ")\n",
    "\n",
    "# Run the load process, which is lazy-loaded\n",
    "input_data = loader.load(items, geom)\n",
    "input_data"
   ]
  },
  {
   "cell_type": "code",
   "execution_count": null,
   "metadata": {},
   "outputs": [],
   "source": [
    "# Set up a data processor\n",
    "processor = CoastalCompositesProcessor(\n",
    "    low_or_high=\"high\"\n",
    ")\n",
    "\n",
    "# Plan the processing.\n",
    "output_data = processor.process(input_data)\n",
    "output_data"
   ]
  },
  {
   "cell_type": "code",
   "execution_count": null,
   "metadata": {},
   "outputs": [],
   "source": [
    "output = output_data.compute()\n",
    "output"
   ]
  },
  {
   "cell_type": "code",
   "execution_count": null,
   "metadata": {},
   "outputs": [],
   "source": [
    "output.odc.explore(vmin=0, vmax=2000)"
   ]
  },
  {
   "cell_type": "code",
   "execution_count": null,
   "metadata": {},
   "outputs": [],
   "source": [
    "import xarray as xr\n",
    "\n",
    "medians = []\n",
    "for band in [\"red\", \"green\", \"blue\"]:\n",
    "    medians.append(output[band].median(\"time\"))\n",
    "\n",
    "merged = xr.merge(medians)"
   ]
  },
  {
   "cell_type": "code",
   "execution_count": null,
   "metadata": {},
   "outputs": [],
   "source": [
    "merged.odc.explore(vmin=0, vmax=2000)"
   ]
  },
  {
   "cell_type": "code",
   "execution_count": null,
   "metadata": {},
   "outputs": [],
   "source": [
    "output_data.mean_vv.odc.write_cog(\"temp.tif\")"
   ]
  },
  {
   "cell_type": "code",
   "execution_count": null,
   "metadata": {},
   "outputs": [],
   "source": [
    "output_data[\"mean_vv_vh\"] = (output_data[\"mean_vv\"] / output_data[\"mean_vh\"])\n",
    "output_data[[\"mean_vv\", \"mean_vh\", \"mean_vv_vh\"]].to_array().plot.imshow(size=10, vmin=0, vmax=0.1)"
   ]
  },
  {
   "cell_type": "code",
   "execution_count": null,
   "metadata": {},
   "outputs": [],
   "source": [
    "# Testing the Azure writer\n",
    "\n",
    "# from dep_tools.writers import AzureDsWriter\n",
    "# from dep_tools.namers import DepItemPath\n",
    "\n",
    "# itempath = DepItemPath(\"geomad\", \"test\", \"0.0\", datetime)\n",
    "\n",
    "# writer = AzureDsWriter(\n",
    "#     itempath=itempath,\n",
    "#     overwrite=True,\n",
    "#     convert_to_int16=False,\n",
    "#     extra_attrs=dict(dep_version=\"0.0\"),\n",
    "# )\n",
    "\n",
    "# writer.write(output_data, \"test\")\n"
   ]
  },
  {
   "cell_type": "code",
   "execution_count": null,
   "metadata": {},
   "outputs": [],
   "source": [
    "# Testing the AWS writer\n",
    "\n",
    "from dep_tools.writers import AwsDsCogWriter\n",
    "from dep_tools.namers import DepItemPath\n",
    "\n",
    "itempath = DepItemPath(\"geomad\", \"test\", \"0.0\", datetime)\n",
    "\n",
    "writer = AwsDsCogWriter(\n",
    "    itempath=itempath,\n",
    "    overwrite=False,\n",
    "    convert_to_int16=False,\n",
    "    extra_attrs=dict(dep_version=\"0.0\"),\n",
    "    bucket=\"files.auspatious.com\"\n",
    ")\n",
    "\n",
    "writer.write(output_data, \"test\")"
   ]
  },
  {
   "cell_type": "code",
   "execution_count": null,
   "metadata": {},
   "outputs": [],
   "source": [
    "from odc.stac import load\n",
    "from pystac import Item\n",
    "\n",
    "item = Item.from_file(\"https://deppcpublicstorage.blob.core.windows.net/output/dep_geomad_test/0-0/test/2023-01/dep_geomad_test_test_2023-01.stac-item.json\")\n",
    "\n",
    "data = load([item], chunks={})\n",
    "data"
   ]
  },
  {
   "cell_type": "code",
   "execution_count": null,
   "metadata": {},
   "outputs": [],
   "source": [
    "# This is the target path\n",
    "dep_path = LocalPath(\n",
    "    local_folder=\"data\",\n",
    "    sensor=\"s1\",\n",
    "    dataset_id=\"mosaic\",\n",
    "    version=\"0.0.0\",\n",
    "    time=datetime,\n",
    "    zero_pad_numbers=True\n",
    ")\n",
    "\n",
    "# Set up a writer and write out the files\n",
    "writer = LocalDsWriter(\n",
    "    itempath=dep_path,\n",
    "    output_nodata=0,\n",
    "    use_odc_writer=True,\n",
    "    overwrite=True,\n",
    "    convert_to_int16=False\n",
    ")\n",
    "print(f\"Writing to: {dep_path._folder(item_id)}\")\n",
    "out_files = writer.write(output_data, item_id)"
   ]
  },
  {
   "cell_type": "code",
   "execution_count": null,
   "metadata": {},
   "outputs": [],
   "source": [
    "# Make sure written files are readable\n",
    "stac_path = writer.itempath.path(item_id, ext=\".stac-item.json\")\n",
    "\n",
    "item = Item.from_file(stac_path)\n",
    "item.validate()"
   ]
  },
  {
   "cell_type": "code",
   "execution_count": null,
   "metadata": {},
   "outputs": [],
   "source": [
    "from pystac import Item\n",
    "item = Item.from_file(\"https://s3.ap-southeast-2.amazonaws.com/files.auspatious.com/ausp_s2_low_tide_comp_20p/0-0-0/009/019/2022/ausp_s2_low_tide_comp_20p_009_019_2022.stac-item.json\")"
   ]
  },
  {
   "cell_type": "code",
   "execution_count": null,
   "metadata": {},
   "outputs": [],
   "source": [
    "from odc.stac import load\n",
    "from pystac import Item\n",
    "\n",
    "item = Item.from_file(\"https://s3.ap-southeast-2.amazonaws.com/files.auspatious.com/ausp_s2_low_tide_comp_20p/0-0-0/009/019/2022/ausp_s2_low_tide_comp_20p_009_019_2022.stac-item.json\")\n",
    "\n",
    "data = load([item], chunks={})\n",
    "\n",
    "data.odc.explore(bands=[\"red\", \"green\", \"blue\"], vmin=0, vmax=2000)"
   ]
  },
  {
   "cell_type": "markdown",
   "metadata": {},
   "source": []
  }
 ],
 "metadata": {
  "kernelspec": {
   "display_name": "Python 3 (ipykernel)",
   "language": "python",
   "name": "python3"
  },
  "language_info": {
   "codemirror_mode": {
    "name": "ipython",
    "version": 3
   },
   "file_extension": ".py",
   "mimetype": "text/x-python",
   "name": "python",
   "nbconvert_exporter": "python",
   "pygments_lexer": "ipython3",
   "version": "3.11.6"
  }
 },
 "nbformat": 4,
 "nbformat_minor": 4
}
